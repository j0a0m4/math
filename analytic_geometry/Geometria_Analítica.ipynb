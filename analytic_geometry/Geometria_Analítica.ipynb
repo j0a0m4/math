{
  "nbformat": 4,
  "nbformat_minor": 0,
  "metadata": {
    "colab": {
      "name": "Geometria Analítica.ipynb",
      "provenance": [],
      "authorship_tag": "ABX9TyMcJ3P/MN5YeUnneFtNXgyy",
      "include_colab_link": true
    },
    "kernelspec": {
      "name": "python3",
      "display_name": "Python 3"
    },
    "language_info": {
      "name": "python"
    }
  },
  "cells": [
    {
      "cell_type": "markdown",
      "metadata": {
        "id": "view-in-github",
        "colab_type": "text"
      },
      "source": [
        "<a href=\"https://colab.research.google.com/github/j0a0m4/math/blob/main/analytic_geometry/Geometria_Anal%C3%ADtica.ipynb\" target=\"_parent\"><img src=\"https://colab.research.google.com/assets/colab-badge.svg\" alt=\"Open In Colab\"/></a>"
      ]
    },
    {
      "cell_type": "markdown",
      "metadata": {
        "id": "-aX5waO9YjTs"
      },
      "source": [
        "# Geometria Analítica Plana\n",
        "Aula: https://youtu.be/GZQZ49yyrFo\n",
        "\n",
        "*   A coisa começa com dois eixos *perpendiculares*.  \n",
        "\n",
        "E o que é um eixo?\n",
        "> Eixo é uma reta orientada, ou seja, uma reta em que foi escolhido o sentido de percurso.\n",
        "\n",
        "*   Existe um ponto fixo chamado origem, ao qual vai ser associado o número $0$.\n",
        "*   Já existe uma noção de distância, portanto já existe uma unidade de medida\n",
        "*   Cada ponto do eixo possui:\n",
        "    * uma abscissa $R_1$: igual a sua distância à origem, com sinal $+$ se estiver a direita e $-$ se estiver a esquerda\n",
        "    * uma ordenada $R_2$, colocada perdendicularmente a abscissa, com sinal $+$ se estiver para cima e $-$ se estiver para baixo\n",
        "\n",
        "> Todos os números reais estão contidos nessa reta e a cada ponto está associado um único número real. \n",
        "$x \\in \\mathbb{R} : \\forall x \\in \\mathbb{R} \\mspace{6mu} \\exists x \\in R_n $\n",
        "\n",
        "\n"
      ]
    },
    {
      "cell_type": "code",
      "metadata": {
        "colab": {
          "base_uri": "https://localhost:8080/",
          "height": 269
        },
        "id": "_NE4aJG4YEF9",
        "outputId": "3b37da09-8498-45c3-e4b8-0737dde9c641"
      },
      "source": [
        "#@title\n",
        "from matplotlib import pyplot as plt\n",
        "\n",
        "plt.figure()\n",
        "plt.xticks(ticks=[1, 2, 3])\n",
        "plt.yticks(ticks=[1, 2, 3])\n",
        "\n",
        "# plt.arrow(0.05, 0.15, 0.4, 0.15, head_width=0.02, head_length=0.04)\n",
        "# plt.text(0.2, 0.14, 'Vector A')\n",
        "\n",
        "# plt.arrow(0.45, 0.3, 0.2, 0.5, head_width=0.02, head_length=0.04)\n",
        "# plt.text(0.6, 0.6, 'Vector B')\n",
        "\n",
        "# plt.arrow(0.05, 0.15, 0.59, 0.65, head_width=0.02, head_length=0.04)\n",
        "# plt.text(0.28, 0.45, 'Vector A + Vector B', rotation=40)\n",
        "\n",
        "\n",
        "plt.show()"
      ],
      "execution_count": null,
      "outputs": [
        {
          "output_type": "display_data",
          "data": {
            "image/png": "[encoded data removed]",
            "text/plain": [
              "<Figure size 432x288 with 1 Axes>"
            ]
          },
          "metadata": {
            "needs_background": "light"
          }
        }
      ]
    }
  ]
}